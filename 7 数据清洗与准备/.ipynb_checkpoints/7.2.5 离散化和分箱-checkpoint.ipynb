{
 "cells": [
  {
   "cell_type": "markdown",
   "metadata": {},
   "source": [
    "         目的 :  把离散化的数据 进行分箱 处理\n",
    "         工具 : pd-> .cut(data, bins)  .value_counts()   .codes  .categories   \n",
    "         .qcut  与分箱相关的函数  基于养分位数 进行分箱 取决于数据的分布 通过cut 获取的分享中的样本数 不一定相等 而qcut 获取的样本数相同"
   ]
  },
  {
   "cell_type": "code",
   "execution_count": 29,
   "metadata": {},
   "outputs": [],
   "source": [
    "import pandas as pd\n",
    "import matplotlib.pyplot as plt\n",
    "import numpy as np"
   ]
  },
  {
   "cell_type": "code",
   "execution_count": 31,
   "metadata": {},
   "outputs": [],
   "source": [
    "data = np.random.randint(0,100,30)"
   ]
  },
  {
   "cell_type": "code",
   "execution_count": 32,
   "metadata": {},
   "outputs": [
    {
     "data": {
      "text/plain": [
       "array([55, 14, 25,  4, 10, 57, 32, 13, 83, 10, 20,  1, 21,  3, 11, 71, 13,\n",
       "       76, 84, 89, 27, 35, 15, 45, 19, 12, 71, 51, 78, 51])"
      ]
     },
     "execution_count": 32,
     "metadata": {},
     "output_type": "execute_result"
    }
   ],
   "source": [
    "data"
   ]
  },
  {
   "cell_type": "code",
   "execution_count": 33,
   "metadata": {},
   "outputs": [
    {
     "data": {
      "text/plain": [
       "[<matplotlib.lines.Line2D at 0x11bf26e48>]"
      ]
     },
     "execution_count": 33,
     "metadata": {},
     "output_type": "execute_result"
    },
    {
     "data": {
      "image/png": "[encoded data removed]",
      "text/plain": [
       "<Figure size 432x288 with 1 Axes>"
      ]
     },
     "metadata": {
      "needs_background": "light"
     },
     "output_type": "display_data"
    }
   ],
   "source": [
    "plt.plot(data)"
   ]
  },
  {
   "cell_type": "code",
   "execution_count": 50,
   "metadata": {},
   "outputs": [],
   "source": [
    "bins = [ 0,18,30,55,100]\n",
    "cats = pd.cut(data,bins)"
   ]
  },
  {
   "cell_type": "code",
   "execution_count": 51,
   "metadata": {},
   "outputs": [
    {
     "data": {
      "text/plain": [
       "[(30, 55], (0, 18], (18, 30], (0, 18], (0, 18], ..., (0, 18], (55, 100], (30, 55], (55, 100], (30, 55]]\n",
       "Length: 30\n",
       "Categories (4, interval[int64]): [(0, 18] < (18, 30] < (30, 55] < (55, 100]]"
      ]
     },
     "execution_count": 51,
     "metadata": {},
     "output_type": "execute_result"
    }
   ],
   "source": [
    "cats"
   ]
  },
  {
   "cell_type": "code",
   "execution_count": 52,
   "metadata": {},
   "outputs": [
    {
     "data": {
      "text/plain": [
       "array([2, 0, 1, 0, 0, 3, 2, 0, 3, 0, 1, 0, 1, 0, 0, 3, 0, 3, 3, 3, 1, 2,\n",
       "       0, 2, 1, 0, 3, 2, 3, 2], dtype=int8)"
      ]
     },
     "execution_count": 52,
     "metadata": {},
     "output_type": "execute_result"
    }
   ],
   "source": [
    "cats.codes"
   ]
  },
  {
   "cell_type": "code",
   "execution_count": 53,
   "metadata": {},
   "outputs": [
    {
     "data": {
      "text/plain": [
       "[0, 18, 30, 55, 100]"
      ]
     },
     "execution_count": 53,
     "metadata": {},
     "output_type": "execute_result"
    }
   ],
   "source": [
    "data \n",
    "bins"
   ]
  },
  {
   "cell_type": "code",
   "execution_count": 69,
   "metadata": {},
   "outputs": [
    {
     "data": {
      "text/plain": [
       "array([0.76910683, 0.20688634, 0.72870762, 0.03230696, 0.91899525,\n",
       "       0.10430134, 0.13705381, 0.28611893, 0.62033569, 0.88229454,\n",
       "       0.48637858, 0.85587691, 0.33914883, 0.89732294, 0.8843736 ,\n",
       "       0.95199697, 0.12337484, 0.29099378, 0.735475  , 0.2022376 ])"
      ]
     },
     "execution_count": 69,
     "metadata": {},
     "output_type": "execute_result"
    }
   ],
   "source": [
    "data"
   ]
  },
  {
   "cell_type": "code",
   "execution_count": 55,
   "metadata": {},
   "outputs": [
    {
     "data": {
      "text/plain": [
       "IntervalIndex([(0, 18], (18, 30], (30, 55], (55, 100]]\n",
       "              closed='right',\n",
       "              dtype='interval[int64]')"
      ]
     },
     "execution_count": 55,
     "metadata": {},
     "output_type": "execute_result"
    }
   ],
   "source": [
    "cats.categories"
   ]
  },
  {
   "cell_type": "code",
   "execution_count": 56,
   "metadata": {},
   "outputs": [
    {
     "data": {
      "text/plain": [
       "(0, 18]      11\n",
       "(55, 100]     8\n",
       "(30, 55]      6\n",
       "(18, 30]      5\n",
       "dtype: int64"
      ]
     },
     "execution_count": 56,
     "metadata": {},
     "output_type": "execute_result"
    }
   ],
   "source": [
    "pd.value_counts(cats)"
   ]
  },
  {
   "cell_type": "code",
   "execution_count": 57,
   "metadata": {},
   "outputs": [],
   "source": [
    "names = ['youth','adult','mid','sen']"
   ]
  },
  {
   "cell_type": "code",
   "execution_count": 58,
   "metadata": {},
   "outputs": [
    {
     "data": {
      "text/plain": [
       "[mid, youth, adult, youth, youth, ..., youth, sen, mid, sen, mid]\n",
       "Length: 30\n",
       "Categories (4, object): [youth < adult < mid < sen]"
      ]
     },
     "execution_count": 58,
     "metadata": {},
     "output_type": "execute_result"
    }
   ],
   "source": [
    "pd.cut(data,bins,labels = names)"
   ]
  },
  {
   "cell_type": "code",
   "execution_count": 59,
   "metadata": {},
   "outputs": [
    {
     "data": {
      "text/plain": [
       "[(30, 55], (0, 18], (18, 30], (0, 18], (0, 18], ..., (0, 18], (55, 100], (30, 55], (55, 100], (30, 55]]\n",
       "Length: 30\n",
       "Categories (4, interval[int64]): [(0, 18] < (18, 30] < (30, 55] < (55, 100]]"
      ]
     },
     "execution_count": 59,
     "metadata": {},
     "output_type": "execute_result"
    }
   ],
   "source": [
    "pd.cut(data,bins)"
   ]
  },
  {
   "cell_type": "code",
   "execution_count": null,
   "metadata": {},
   "outputs": [],
   "source": [
    "\n"
   ]
  },
  {
   "cell_type": "code",
   "execution_count": 60,
   "metadata": {},
   "outputs": [],
   "source": [
    "data = np.random.rand(20)"
   ]
  },
  {
   "cell_type": "code",
   "execution_count": 64,
   "metadata": {},
   "outputs": [],
   "source": [
    "box =  pd.cut(data,4,precision=2) "
   ]
  },
  {
   "cell_type": "code",
   "execution_count": 65,
   "metadata": {},
   "outputs": [
    {
     "data": {
      "text/plain": [
       "array([3, 0, 3, 0, 3, 0, 0, 1, 2, 3, 1, 3, 1, 3, 3, 3, 0, 1, 3, 0],\n",
       "      dtype=int8)"
      ]
     },
     "execution_count": 65,
     "metadata": {},
     "output_type": "execute_result"
    }
   ],
   "source": [
    "box.codes"
   ]
  },
  {
   "cell_type": "code",
   "execution_count": 67,
   "metadata": {},
   "outputs": [
    {
     "data": {
      "text/plain": [
       "IntervalIndex([(0.031, 0.26], (0.26, 0.49], (0.49, 0.72], (0.72, 0.95]]\n",
       "              closed='right',\n",
       "              dtype='interval[float64]')"
      ]
     },
     "execution_count": 67,
     "metadata": {},
     "output_type": "execute_result"
    }
   ],
   "source": [
    "box.categories"
   ]
  },
  {
   "cell_type": "code",
   "execution_count": 68,
   "metadata": {},
   "outputs": [
    {
     "data": {
      "text/plain": [
       "(0.72, 0.95]     9\n",
       "(0.031, 0.26]    6\n",
       "(0.26, 0.49]     4\n",
       "(0.49, 0.72]     1\n",
       "dtype: int64"
      ]
     },
     "execution_count": 68,
     "metadata": {},
     "output_type": "execute_result"
    }
   ],
   "source": [
    "pd.value_counts(box)"
   ]
  },
  {
   "cell_type": "code",
   "execution_count": 70,
   "metadata": {},
   "outputs": [],
   "source": [
    "data= np.random.randn(1000)\n",
    "cats = pd.qcut(data,4,precision=2)"
   ]
  },
  {
   "cell_type": "code",
   "execution_count": 71,
   "metadata": {},
   "outputs": [
    {
     "data": {
      "text/plain": [
       "[(0.0052, 0.66], (-3.9699999999999998, -0.66], (-3.9699999999999998, -0.66], (-0.66, 0.0052], (0.0052, 0.66], ..., (0.0052, 0.66], (0.0052, 0.66], (0.66, 2.75], (0.0052, 0.66], (0.66, 2.75]]\n",
       "Length: 1000\n",
       "Categories (4, interval[float64]): [(-3.9699999999999998, -0.66] < (-0.66, 0.0052] < (0.0052, 0.66] < (0.66, 2.75]]"
      ]
     },
     "execution_count": 71,
     "metadata": {},
     "output_type": "execute_result"
    }
   ],
   "source": [
    "cats"
   ]
  },
  {
   "cell_type": "code",
   "execution_count": 73,
   "metadata": {},
   "outputs": [
    {
     "data": {
      "text/plain": [
       "[<matplotlib.lines.Line2D at 0x11c168cf8>]"
      ]
     },
     "execution_count": 73,
     "metadata": {},
     "output_type": "execute_result"
    },
    {
     "data": {
      "image/png": "[encoded data removed]",
      "text/plain": [
       "<Figure size 432x288 with 1 Axes>"
      ]
     },
     "metadata": {
      "needs_background": "light"
     },
     "output_type": "display_data"
    }
   ],
   "source": [
    "plt.plot(data)"
   ]
  },
  {
   "cell_type": "code",
   "execution_count": 75,
   "metadata": {},
   "outputs": [
    {
     "data": {
      "text/plain": [
       "array([2, 0, 0, 1, 2, 2, 2, 3, 0, 3, 2, 1, 3, 2, 3, 3, 0, 2, 3, 1, 1, 0,\n",
       "       1, 1, 3, 0, 3, 1, 3, 0, 2, 1, 0, 1, 1, 1, 2, 2, 2, 1, 2, 3, 0, 1,\n",
       "       2, 3, 3, 3, 1, 2, 1, 3, 0, 3, 1, 0, 0, 0, 1, 0, 0, 3, 0, 3, 0, 2,\n",
       "       0, 0, 3, 1, 3, 0, 2, 0, 1, 2, 3, 3, 2, 1, 3, 3, 1, 3, 0, 3, 1, 3,\n",
       "       2, 1, 3, 1, 0, 1, 1, 0, 0, 0, 2, 3, 2, 1, 1, 0, 3, 0, 2, 2, 2, 3,\n",
       "       0, 3, 1, 1, 0, 3, 1, 3, 1, 0, 2, 3, 3, 2, 3, 2, 1, 2, 2, 0, 0, 0,\n",
       "       2, 0, 3, 3, 2, 2, 0, 2, 2, 0, 0, 0, 3, 2, 1, 2, 0, 0, 3, 2, 2, 1,\n",
       "       1, 1, 1, 0, 1, 3, 3, 0, 1, 0, 2, 1, 3, 1, 2, 0, 2, 1, 0, 0, 3, 2,\n",
       "       3, 3, 3, 1, 2, 3, 0, 1, 2, 1, 3, 0, 3, 3, 0, 3, 3, 2, 3, 3, 2, 0,\n",
       "       0, 1, 0, 1, 1, 3, 3, 2, 2, 1, 0, 2, 3, 2, 0, 1, 1, 0, 2, 2, 0, 1,\n",
       "       3, 0, 2, 2, 1, 0, 0, 2, 0, 1, 0, 0, 1, 2, 0, 1, 2, 2, 3, 0, 3, 1,\n",
       "       1, 1, 3, 0, 2, 2, 0, 2, 3, 1, 2, 0, 3, 1, 2, 0, 0, 0, 2, 2, 0, 0,\n",
       "       0, 2, 0, 1, 3, 2, 1, 0, 3, 0, 2, 2, 2, 0, 3, 0, 2, 2, 1, 3, 0, 3,\n",
       "       0, 3, 0, 0, 2, 1, 1, 0, 3, 3, 0, 3, 2, 3, 0, 1, 3, 2, 1, 0, 3, 2,\n",
       "       1, 0, 2, 2, 3, 3, 0, 1, 2, 0, 1, 3, 1, 0, 1, 2, 3, 3, 3, 0, 1, 3,\n",
       "       0, 2, 0, 2, 2, 3, 0, 0, 3, 0, 1, 3, 3, 3, 0, 2, 1, 3, 3, 1, 2, 0,\n",
       "       0, 0, 1, 3, 3, 2, 1, 3, 3, 2, 2, 0, 3, 1, 1, 3, 1, 0, 2, 3, 2, 0,\n",
       "       0, 0, 0, 1, 1, 2, 2, 0, 3, 2, 0, 2, 2, 3, 1, 0, 2, 2, 3, 1, 1, 0,\n",
       "       0, 1, 0, 1, 1, 1, 1, 2, 1, 0, 2, 3, 0, 1, 3, 3, 1, 1, 1, 3, 1, 1,\n",
       "       1, 1, 3, 0, 0, 1, 1, 1, 2, 3, 1, 0, 3, 3, 2, 3, 2, 2, 1, 3, 0, 1,\n",
       "       2, 0, 0, 3, 1, 0, 0, 2, 0, 1, 2, 3, 3, 2, 0, 2, 1, 3, 2, 0, 1, 3,\n",
       "       2, 3, 2, 1, 3, 3, 2, 0, 2, 1, 1, 2, 0, 0, 0, 2, 2, 2, 1, 3, 3, 0,\n",
       "       1, 2, 1, 1, 0, 0, 0, 3, 3, 3, 0, 1, 2, 3, 0, 3, 0, 0, 0, 2, 2, 3,\n",
       "       2, 2, 3, 1, 2, 2, 3, 2, 2, 3, 0, 3, 1, 0, 1, 0, 3, 2, 0, 3, 0, 0,\n",
       "       2, 2, 0, 0, 2, 1, 0, 1, 2, 3, 2, 0, 1, 1, 0, 3, 0, 0, 2, 3, 3, 2,\n",
       "       0, 2, 2, 0, 3, 1, 2, 3, 1, 2, 1, 3, 2, 2, 0, 0, 3, 2, 1, 0, 3, 0,\n",
       "       2, 1, 0, 0, 1, 1, 0, 3, 0, 1, 2, 3, 2, 3, 1, 0, 3, 2, 2, 2, 2, 1,\n",
       "       3, 3, 0, 2, 1, 3, 3, 2, 1, 1, 3, 1, 2, 3, 1, 2, 1, 3, 2, 1, 2, 1,\n",
       "       2, 0, 3, 2, 1, 2, 2, 3, 3, 1, 2, 3, 1, 0, 1, 1, 2, 1, 0, 2, 0, 3,\n",
       "       1, 2, 0, 1, 3, 1, 0, 3, 0, 2, 3, 2, 1, 3, 3, 0, 2, 0, 2, 2, 1, 3,\n",
       "       1, 2, 1, 1, 2, 2, 0, 0, 1, 2, 0, 0, 1, 3, 2, 1, 0, 3, 3, 0, 2, 2,\n",
       "       2, 3, 1, 1, 3, 1, 3, 2, 0, 0, 0, 0, 1, 3, 2, 2, 3, 2, 2, 2, 2, 3,\n",
       "       0, 2, 3, 3, 0, 3, 2, 2, 1, 0, 2, 0, 2, 1, 0, 3, 2, 3, 1, 1, 2, 1,\n",
       "       0, 3, 1, 0, 1, 3, 1, 1, 0, 2, 0, 3, 1, 0, 3, 2, 0, 2, 1, 3, 3, 1,\n",
       "       3, 1, 2, 0, 2, 0, 2, 1, 3, 2, 2, 3, 1, 2, 0, 1, 1, 1, 0, 1, 0, 0,\n",
       "       1, 0, 1, 0, 1, 3, 3, 1, 3, 0, 3, 0, 2, 3, 1, 3, 3, 0, 2, 1, 3, 3,\n",
       "       0, 0, 1, 3, 1, 3, 3, 0, 1, 3, 2, 2, 0, 0, 1, 0, 1, 1, 3, 1, 2, 2,\n",
       "       2, 2, 2, 1, 2, 3, 0, 2, 0, 0, 1, 3, 0, 1, 0, 1, 1, 0, 1, 2, 3, 1,\n",
       "       3, 1, 2, 1, 0, 3, 2, 1, 0, 3, 0, 1, 2, 1, 3, 1, 2, 1, 3, 2, 1, 1,\n",
       "       1, 1, 3, 3, 1, 1, 3, 3, 0, 0, 3, 3, 3, 1, 2, 3, 3, 0, 3, 3, 0, 3,\n",
       "       0, 1, 1, 3, 2, 2, 2, 2, 1, 2, 3, 2, 2, 0, 3, 2, 1, 0, 2, 0, 1, 2,\n",
       "       1, 0, 3, 3, 1, 0, 3, 1, 3, 1, 3, 1, 1, 2, 3, 3, 1, 0, 1, 3, 3, 1,\n",
       "       2, 1, 0, 2, 0, 1, 2, 1, 0, 2, 1, 2, 0, 1, 1, 2, 1, 1, 3, 2, 2, 2,\n",
       "       2, 3, 3, 0, 2, 1, 2, 3, 3, 1, 2, 1, 1, 3, 2, 2, 0, 3, 3, 3, 0, 3,\n",
       "       0, 0, 2, 3, 0, 3, 2, 2, 0, 0, 1, 3, 1, 3, 1, 2, 0, 0, 0, 3, 3, 0,\n",
       "       1, 0, 0, 0, 1, 2, 2, 3, 2, 3], dtype=int8)"
      ]
     },
     "execution_count": 75,
     "metadata": {},
     "output_type": "execute_result"
    }
   ],
   "source": [
    "cats.codes"
   ]
  },
  {
   "cell_type": "code",
   "execution_count": 77,
   "metadata": {},
   "outputs": [
    {
     "data": {
      "text/plain": [
       "IntervalIndex([(-3.9699999999999998, -0.66], (-0.66, 0.0052], (0.0052, 0.66], (0.66, 2.75]]\n",
       "              closed='right',\n",
       "              dtype='interval[float64]')"
      ]
     },
     "execution_count": 77,
     "metadata": {},
     "output_type": "execute_result"
    }
   ],
   "source": [
    "cats.categories"
   ]
  },
  {
   "cell_type": "code",
   "execution_count": 81,
   "metadata": {},
   "outputs": [
    {
     "data": {
      "text/plain": [
       "(0.66, 2.75]                    250\n",
       "(0.0052, 0.66]                  250\n",
       "(-0.66, 0.0052]                 250\n",
       "(-3.9699999999999998, -0.66]    250\n",
       "dtype: int64"
      ]
     },
     "execution_count": 81,
     "metadata": {},
     "output_type": "execute_result"
    }
   ],
   "source": [
    "pd.value_counts(cats)"
   ]
  },
  {
   "cell_type": "code",
   "execution_count": null,
   "metadata": {},
   "outputs": [],
   "source": []
  }
 ],
 "metadata": {
  "kernelspec": {
   "display_name": "Python 3",
   "language": "python",
   "name": "python3"
  },
  "language_info": {
   "codemirror_mode": {
    "name": "ipython",
    "version": 3
   },
   "file_extension": ".py",
   "mimetype": "text/x-python",
   "name": "python",
   "nbconvert_exporter": "python",
   "pygments_lexer": "ipython3",
   "version": "3.7.0"
  }
 },
 "nbformat": 4,
 "nbformat_minor": 2
}
